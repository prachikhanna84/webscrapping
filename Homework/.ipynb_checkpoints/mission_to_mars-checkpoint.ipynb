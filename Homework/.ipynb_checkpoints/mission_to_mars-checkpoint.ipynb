{
 "cells": [
  {
   "cell_type": "code",
   "execution_count": 36,
   "metadata": {},
   "outputs": [],
   "source": [
    "from splinter import Browser\n",
    "from bs4 import BeautifulSoup\n",
    "import pandas as pd\n"
   ]
  },
  {
   "cell_type": "code",
   "execution_count": 37,
   "metadata": {},
   "outputs": [
    {
     "name": "stdout",
     "output_type": "stream",
     "text": [
      "/usr/local/bin/chromedriver\r\n"
     ]
    }
   ],
   "source": [
    "!which chromedriver"
   ]
  },
  {
   "cell_type": "code",
   "execution_count": 38,
   "metadata": {},
   "outputs": [],
   "source": [
    "# executable_path = {'executable_path': 'chromedriver.exe'}\n",
    "# browser = Browser('chrome', **executable_path, headless=False)\n",
    "\n",
    "executable_path = {'executable_path': '/usr/local/bin/chromedriver'}\n",
    "browser = Browser('chrome', **executable_path, headless=False)"
   ]
  },
  {
   "cell_type": "code",
   "execution_count": 30,
   "metadata": {},
   "outputs": [
    {
     "name": "stdout",
     "output_type": "stream",
     "text": [
      "Small Satellite Mission of the Year\n",
      "The first interplanetary CubeSats were recognized by the engineering community with the 2019 Small Satellite Mission of the Year award.\n"
     ]
    }
   ],
   "source": [
    "url=\"https://mars.nasa.gov/news/\"\n",
    "browser.visit(url)\n",
    "\n",
    "html = browser.html\n",
    "soup = BeautifulSoup(html, 'html.parser')\n",
    "news_title = []\n",
    "news_p = []\n",
    "\n",
    "news_title = soup.find('div', class_='content_title')\n",
    "news_p = soup.find('div', class_='article_teaser_body')\n",
    "print(news_title.a.text)\n",
    "print(news_p.text)\n",
    "\n"
   ]
  },
  {
   "cell_type": "code",
   "execution_count": 34,
   "metadata": {},
   "outputs": [
    {
     "name": "stdout",
     "output_type": "stream",
     "text": [
      "https://www.jpl.nasa.gov/spaceimages/images/wallpaper/PIA18886-1920x1200.jpg\n"
     ]
    }
   ],
   "source": [
    "JPLMarsUrl=\"https://www.jpl.nasa.gov/spaceimages/?search=&category=Mars\"\n",
    "browser.visit(JPLMarsUrl)\n",
    "html = browser.html\n",
    "soup = BeautifulSoup(html, 'html.parser')\n",
    "# featured_image_url=soup.find('article',class_='carousel_item')\n",
    "# featured_image_url = featured_image_url['style'].split(\"'\")[1]\n",
    "picUrl=[]\n",
    "featured_image_url=soup.find('article',class_='carousel_item')\n",
    "featured_image_url = featured_image_url['style'].split(\"'\")[1]\n",
    "featured_image_url=f'https://www.jpl.nasa.gov{featured_image_url}'\n",
    "picUrl.append(featured_image_url)\n",
    "print(picUrl[0])\n"
   ]
  },
  {
   "cell_type": "code",
   "execution_count": 53,
   "metadata": {},
   "outputs": [
    {
     "name": "stdout",
     "output_type": "stream",
     "text": [
      "InSight sol 249 (2019-08-09) low -98.8ºC (-145.8ºF) high -26.0ºC (-14.8ºF)\n",
      "winds from the SSE at 4.4 m/s (9.8 mph) gusting to 17.5 m/s (39.1 mph)\n",
      "pressure at 7.60 hPa\n"
     ]
    }
   ],
   "source": [
    "marsWeatherUrl=\"https://twitter.com/marswxreport?lang=en\"\n",
    "browser.visit(marsWeatherUrl)\n",
    "html=browser.html\n",
    "soup=BeautifulSoup(html,'html.parser')\n",
    "tweet=soup.find(\"p\",class_=\"TweetTextSize\")\n",
    "print(tweet.text.replace(tweet.a.text, \"\"))"
   ]
  },
  {
   "cell_type": "code",
   "execution_count": 16,
   "metadata": {},
   "outputs": [
    {
     "name": "stdout",
     "output_type": "stream",
     "text": [
      "\"\"\"<table class=\"tablepress tablepress-id-p-mars\" id=\"tablepress-p-mars\"><tbody><tr class=\"row-1 odd\"><td class=\"column-1\"><strong>Equatorial Diameter:</strong></td><td class=\"column-2\">6,792 km<br/></td></tr><tr class=\"row-2 even\"><td class=\"column-1\"><strong>Polar Diameter:</strong></td><td class=\"column-2\">6,752 km<br/></td></tr><tr class=\"row-3 odd\"><td class=\"column-1\"><strong>Mass:</strong></td><td class=\"column-2\">6.39 × 10^23 kg<br/> (0.11 Earths)</td></tr><tr class=\"row-4 even\"><td class=\"column-1\"><strong>Moons:</strong></td><td class=\"column-2\">2 (<a href=\"https://space-facts.com/moons/phobos/\">Phobos</a> &amp; <a href=\"https://space-facts.com/moons/deimos/\">Deimos</a>)</td></tr><tr class=\"row-5 odd\"><td class=\"column-1\"><strong>Orbit Distance:</strong></td><td class=\"column-2\">227,943,824 km<br/> (1.38 AU)</td></tr><tr class=\"row-6 even\"><td class=\"column-1\"><strong>Orbit Period:</strong></td><td class=\"column-2\">687 days (1.9 years)<br/></td></tr><tr class=\"row-7 odd\"><td class=\"column-1\"><strong>Surface Temperature: </strong></td><td class=\"column-2\">-87 to -5 °C</td></tr><tr class=\"row-8 even\"><td class=\"column-1\"><strong>First Record:</strong></td><td class=\"column-2\">2nd millennium BC</td></tr><tr class=\"row-9 odd\"><td class=\"column-1\"><strong>Recorded By:</strong></td><td class=\"column-2\">Egyptian astronomers</td></tr></tbody></table>\"\"\"\n"
     ]
    }
   ],
   "source": [
    "marsFactUrl=\"https://space-facts.com/mars/\"\n",
    "browser.visit(marsFactUrl)\n",
    "text=browser.html\n",
    "soup=BeautifulSoup(text,\"html.parser\")\n",
    "marsFact=soup.find(\"table\",id=\"tablepress-p-mars\")\n",
    "\n",
    "html_string = f'\"\"\"{marsFact}\"\"\"'\n",
    "print(html_string)\n",
    "\n",
    "# dfs = pd.read_html(marsFact)\n",
    "# dfs.head()"
   ]
  },
  {
   "cell_type": "code",
   "execution_count": 25,
   "metadata": {},
   "outputs": [
    {
     "data": {
      "text/plain": [
       "'Equatorial Diameter:'"
      ]
     },
     "execution_count": 25,
     "metadata": {},
     "output_type": "execute_result"
    }
   ],
   "source": [
    "mars_facts=pd.read_html(html_string)[0]\n",
    "mars_facts[0][0]"
   ]
  },
  {
   "cell_type": "code",
   "execution_count": 18,
   "metadata": {},
   "outputs": [
    {
     "data": {
      "text/plain": [
       "[{0: 'Equatorial Diameter:', 1: '6,792 km'},\n",
       " {0: 'Polar Diameter:', 1: '6,752 km'},\n",
       " {0: 'Mass:', 1: '6.39 × 10^23 kg (0.11 Earths)'},\n",
       " {0: 'Moons:', 1: '2 (Phobos & Deimos)'},\n",
       " {0: 'Orbit Distance:', 1: '227,943,824 km (1.38 AU)'},\n",
       " {0: 'Orbit Period:', 1: '687 days (1.9 years)'},\n",
       " {0: 'Surface Temperature:', 1: '-87 to -5 °C'},\n",
       " {0: 'First Record:', 1: '2nd millennium BC'},\n",
       " {0: 'Recorded By:', 1: 'Egyptian astronomers'}]"
      ]
     },
     "execution_count": 18,
     "metadata": {},
     "output_type": "execute_result"
    }
   ],
   "source": [
    "mars_facts=mars_facts.to_dict(\"records\")\n",
    "mars_facts\n",
    "# mars_facts.to_dict()"
   ]
  },
  {
   "cell_type": "code",
   "execution_count": 19,
   "metadata": {},
   "outputs": [
    {
     "name": "stdout",
     "output_type": "stream",
     "text": [
      "https://astrogeology.usgs.gov/search/results?q=hemisphere+enhanced&k1=target&v1=Mars/cache/images/dfaf3849e74bf973b59eb50dab52b583_cerberus_enhanced.tif_thumb.png\n",
      "https://astrogeology.usgs.gov/search/results?q=hemisphere+enhanced&k1=target&v1=Mars/cache/images/7677c0a006b83871b5a2f66985ab5857_schiaparelli_enhanced.tif_thumb.png\n",
      "https://astrogeology.usgs.gov/search/results?q=hemisphere+enhanced&k1=target&v1=Mars/cache/images/aae41197e40d6d4f3ea557f8cfe51d15_syrtis_major_enhanced.tif_thumb.png\n",
      "https://astrogeology.usgs.gov/search/results?q=hemisphere+enhanced&k1=target&v1=Mars/cache/images/04085d99ec3713883a9a57f42be9c725_valles_marineris_enhanced.tif_thumb.png\n"
     ]
    }
   ],
   "source": [
    "marsImages=\"https://astrogeology.usgs.gov/search/results?q=hemisphere+enhanced&k1=target&v1=Mars\"\n",
    "browser.visit(marsImages)\n",
    "text=browser.html\n",
    "soup=BeautifulSoup(text,\"html.parser\")\n",
    "images=soup.findAll(\"img\",class_=\"thumb\")\n",
    "marsImagesList=[]\n",
    "marsImagesTitle=[]\n",
    "for image in images:\n",
    "    print(f'{marsImages}{image[\"src\"]}')\n",
    "    marsImagesList.append(f'{marsImages}{image[\"src\"]}')\n",
    "    marsImagesTitle.append(f'{image[\"alt\"]}')\n",
    "                      "
   ]
  },
  {
   "cell_type": "code",
   "execution_count": 20,
   "metadata": {},
   "outputs": [
    {
     "name": "stdout",
     "output_type": "stream",
     "text": [
      "['Cerberus Hemisphere Enhanced thumbnail', 'Schiaparelli Hemisphere Enhanced thumbnail', 'Syrtis Major Hemisphere Enhanced thumbnail', 'Valles Marineris Hemisphere Enhanced thumbnail']\n"
     ]
    }
   ],
   "source": [
    "# print(marsImagesList)\n",
    "print(marsImagesTitle)"
   ]
  },
  {
   "cell_type": "code",
   "execution_count": null,
   "metadata": {},
   "outputs": [],
   "source": []
  }
 ],
 "metadata": {
  "kernelspec": {
   "display_name": "Python 3",
   "language": "python",
   "name": "python3"
  }
 },
 "nbformat": 4,
 "nbformat_minor": 2
}
